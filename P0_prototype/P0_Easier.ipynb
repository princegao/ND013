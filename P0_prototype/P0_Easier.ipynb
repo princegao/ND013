{
 "cells": [
  {
   "cell_type": "markdown",
   "metadata": {},
   "source": [
    "# **Finding Lane Lines on the Road** \n",
    "***\n",
    "In this project, you will use the tools you learned about in the lesson to identify lane lines on the road.  You can develop your pipeline on a single image, and later apply the result to a video stream (really just a series of images).  Check out the video clip \"P0_example1.mp4\" (also contained in this repository) to see what the output should look like.\n",
    "\n",
    "Let's have a look at our first image called 'solidWhiteRight.jpg'.  Run the 2 cells below (hit Shift-Enter or the \"play\" button above) to bring up an interactive matplotlib window displaying the image.\n",
    "\n",
    "**Note:** you can zoom in and explore the image within the interactive matplotlib window.  If, at any point, you encounter frozen display windows or other confounding issues, you can always start again with a clean slate by going to the \"Kernel\" menu above and selecting \"Restart & Clear Output\".\n",
    "\n",
    "---"
   ]
  },
  {
   "cell_type": "code",
   "execution_count": 2,
   "metadata": {
    "collapsed": true
   },
   "outputs": [],
   "source": [
    "#importing some useful packages\n",
    "import matplotlib.pyplot as plt\n",
    "import matplotlib.image as mpimg\n",
    "import numpy as np\n",
    "import cv2\n",
    "%matplotlib inline "
   ]
  },
  {
   "cell_type": "code",
   "execution_count": null,
   "metadata": {
    "collapsed": true
   },
   "outputs": [],
   "source": [
    "#reading in an image\n",
    "image = mpimg.imread('solidWhiteRight.jpg')\n",
    "#printing out some stats and plotting\n",
    "print('This image is: ',type(image), 'with dimesions:', image.shape)\n",
    "plt.imshow(image)\n",
    "#the next two lines ensure that the plot window comes out on top of the browser\n",
    "fig = plt.gcf()\n",
    "fig.canvas.manager.window.raise_()"
   ]
  },
  {
   "cell_type": "markdown",
   "metadata": {},
   "source": [
    "**The tools you have are color selection, region of interest selection, grayscaling, Gaussian smoothing, Canny Edge Detection and Hough Tranform line detection.  You  are also free to explore and try other techniques that were not presented in the lesson.  Your goal is piece together a pipeline to detect the lines in the image, and draw them onto the image for display (as below).  Once you have a working pipeline, try it out on the video stream below.**\n",
    "\n",
    "---\n",
    "\n",
    "<figure>\n",
    " <img src=\"laneLines_thirdPass.jpg\" width=\"480\" alt=\"Combined Image\" />\n",
    " <figcaption>\n",
    " <p></p> \n",
    " <p style=\"text-align: center;\"> Your output image should look more or less like this after line detection </p> \n",
    " </figcaption>\n",
    "</figure>\n",
    "\n",
    "---\n",
    "\n",
    "**Below, we have defined some functions that you might find useful for this project.  These are using the OpenCV functions you learned about in the lesson, plus a few more.  These are meant to give you a good start in the right direction, but feel free to tweak, rewrite and modify as needed.  Also feel free to explore and find other tools, within OpenCV or elsewhere, to improve your lane finding pipeline**"
   ]
  },
  {
   "cell_type": "code",
   "execution_count": 5,
   "metadata": {
    "collapsed": true
   },
   "outputs": [],
   "source": [
    "def blank(image):\n",
    "    #simply return an empty array the same size as image\n",
    "    return np.zeros(image.shape, np.uint8)\n",
    "\n",
    "def regionOfInterest(img, vertices):\n",
    "    \n",
    "    #defining a blank mask to start with\n",
    "    mask = blank(img)   \n",
    "    \n",
    "    #defining a 3 channel or 1 channel color to fill the mask with depending on the input image\n",
    "    if len(img.shape) > 2:\n",
    "        channel_count = img.shape[2]  # i.e. 3 or 4 depending on your image\n",
    "        ignore_mask_color = (255,)*channel_count\n",
    "    else:\n",
    "        ignore_mask_color = 255\n",
    "        \n",
    "    #filling pixels inside the polygon defined by \"vertices\" with the fill color    \n",
    "    cv2.fillPoly(mask, vertices, ignore_mask_color)\n",
    "    \n",
    "    #returning the image only where mask pixels are nonzero\n",
    "    masked_image = cv2.bitwise_and(img, mask)\n",
    "    return masked_image\n",
    "\n",
    "def colorSelect(image, white_low, white_high):\n",
    "    \n",
    "    #defining a lower and upper bound for color (white_low and white_high are [R,G,B] vectors)\n",
    "    lower_white = np.array(white_low, dtype=np.uint8) \n",
    "    upper_white = np.array(white_high, dtype=np.uint8) \n",
    "    \n",
    "    #returning a binary image, with white pixels represent where the color criteria were met\n",
    "    selected = cv2.inRange(image, lower_white, upper_white)\n",
    "    return selected\n",
    "\n",
    "def houghLinesP(imageCopy, cselected, rho, theta, threshold, minLineLength, maxLineGap):\n",
    "    \n",
    "    #using Hough Transform to identify line segments in an image based on input parameters\n",
    "    lines = cv2.HoughLinesP(cselected, rho, theta, threshold, np.array([]),\n",
    "                            minLineLength, maxLineGap)\n",
    "    \n",
    "    #drawing the line segments discovered by Hough on the image\n",
    "    drawLane(imageCopy, lines)\n",
    "    return lines, imageCopy\n",
    "\n",
    "def drawLane(image, lines):\n",
    "    \n",
    "    #stepping through all line segments identified by houghLinesP() and drawing them on the image\n",
    "    if lines is not None:\n",
    "        for line in lines:\n",
    "            for x1,y1,x2,y2 in line:\n",
    "                 cv2.line(image,(x1,y1),(x2,y2),(200,0,0),2)\n",
    "    return"
   ]
  },
  {
   "cell_type": "markdown",
   "metadata": {},
   "source": [
    "---\n",
    "\n",
    "**Below are some examples of how to use the functions defined above.  These are just examples, but using similar steps and adjusting parameters you can build your pipeline.**\n",
    "\n",
    "---"
   ]
  },
  {
   "cell_type": "code",
   "execution_count": 6,
   "metadata": {
    "collapsed": false
   },
   "outputs": [],
   "source": [
    "#doing a color selection\n",
    "lowWhiteThreshold = [1, 1, 1]\n",
    "highWhiteThreshold = [255, 255, 255]\n",
    "cselect = colorSelect(image, lowWhiteThreshold, highWhiteThreshold)\n",
    "\n",
    "#a region of interest selection\n",
    "vertices = np.array([[(0,539), (959,400), (440,0)]], dtype=np.int32)\n",
    "masked = regionOfInterest(image, vertices)\n",
    "\n",
    "#grayscaling\n",
    "gray = cv2.cvtColor(image,cv2.COLOR_BGR2GRAY)\n",
    "\n",
    "#performing a Gaussian smoothing\n",
    "kernelSize = 5\n",
    "blurGray = cv2.GaussianBlur(gray,(kernelSize, kernelSize),0)\n",
    "\n",
    "#Canny edge detection\n",
    "lowerThresh = 10\n",
    "upperThresh = 50\n",
    "apSize = 3\n",
    "edges = cv2.Canny(blurGray, lowerThresh, upperThresh, apertureSize = apSize)\n",
    "\n",
    "#Hough Transform to find lines then drawing them onto the original image\n",
    "rho = 1\n",
    "theta = np.pi/180\n",
    "threshold = 1\n",
    "minLineLength = 10\n",
    "maxLineGap = 3\n",
    "lines, lineImage = houghLinesP(blank(image), edges, rho, theta, threshold, minLineLength, maxLineGap)\n",
    "combo = cv2.addWeighted(image, 0.8, lineImage, 1, 0)"
   ]
  },
  {
   "cell_type": "markdown",
   "metadata": {},
   "source": [
    "**Check out the OpenCV documentation to discover even more awesome functionality!**\n",
    "\n",
    "**You can run the cell below to watch the video.  Once you have a working pipeline, paste your code into the loop below and see how you did!**"
   ]
  },
  {
   "cell_type": "code",
   "execution_count": null,
   "metadata": {
    "collapsed": true
   },
   "outputs": [],
   "source": [
    "#Run this cell without changing anything first to watch the video\n",
    "cv2.startWindowThread()\n",
    "cv2.namedWindow('Lane-Finding')\n",
    "cap = cv2.VideoCapture('solidWhiteRight.mp4')\n",
    "\n",
    "while cap.isOpened():\n",
    "\n",
    "    ret, image = cap.read()\n",
    "    if image is not None:\n",
    "        \n",
    "        #### ADD YOUR CODE HERE #############\n",
    "        # These are the tools you have from the lesson:#\n",
    "        # 1) Color selection\n",
    "        # 2) Mask the region of interest in the image\n",
    "        # 3) Apply Canny Edge Detection\n",
    "        # 4) Apply Hough Transform to find lines\n",
    "        # These methods should be enough to do the job, \n",
    "        # but there are other methods out there,\n",
    "        # feel free to explore and experiment!\n",
    "        ####################################\n",
    "        result = np.copy(image) # and get rid of this line\n",
    "        cv2.imshow('Lane-Finding',result)\n",
    "    else:\n",
    "        break\n",
    "        \n",
    "    k = cv2.waitKey(30) & 0xff\n",
    "    if k == 27 :\n",
    "        break\n",
    "\n",
    "cap.release()\n",
    "cv2.destroyAllWindows()"
   ]
  },
  {
   "cell_type": "markdown",
   "metadata": {},
   "source": [
    "**Now try it again with a new video...  does your algorithm still work?  Or do you need to modify it?**\n",
    "\n",
    "---\n",
    "\n",
    "<figure>\n",
    " <img src=\"solidYellowLeft.jpg\" width=\"480\" alt=\"Combined Image\" />\n",
    " <figcaption>\n",
    " <p></p> \n",
    " <p style=\"text-align: center;\"> Now the scenario looks like this! </p> \n",
    " </figcaption>\n",
    "</figure>\n",
    "\n",
    "---\n"
   ]
  },
  {
   "cell_type": "code",
   "execution_count": 7,
   "metadata": {
    "collapsed": false
   },
   "outputs": [],
   "source": [
    "#\n",
    "cv2.startWindowThread()\n",
    "cv2.namedWindow('Lane-Finding')\n",
    "cap = cv2.VideoCapture('solidYellowLeft.mp4')\n",
    "\n",
    "while cap.isOpened():\n",
    "\n",
    "    ret, image = cap.read()\n",
    "    if image is not None:\n",
    "        \n",
    "        #### ADD YOUR CODE HERE #############\n",
    "        # These are the tools you have from the lesson:#\n",
    "        # 1) Color selection\n",
    "        # 2) Mask the region of interest in the image\n",
    "        # 3) Apply Canny Edge Detection\n",
    "        # 4) Apply Hough Transform to find lines\n",
    "        # These methods should be enough to do the job, \n",
    "        # but there are other methods out there,\n",
    "        # feel free to explore and experiment!\n",
    "        ####################################\n",
    "        result = np.copy(image) # and get rid of this line\n",
    "        cv2.imshow('Lane-Finding',result)\n",
    "    else:\n",
    "        break\n",
    "        \n",
    "    k = cv2.waitKey(30) & 0xff\n",
    "    if k == 27 :\n",
    "        break\n",
    "\n",
    "cap.release()\n",
    "cv2.destroyAllWindows()"
   ]
  },
  {
   "cell_type": "code",
   "execution_count": null,
   "metadata": {
    "collapsed": true
   },
   "outputs": [],
   "source": []
  }
 ],
 "metadata": {
  "kernelspec": {
   "display_name": "Python [Root]",
   "language": "python",
   "name": "Python [Root]"
  },
  "language_info": {
   "codemirror_mode": {
    "name": "ipython",
    "version": 3
   },
   "file_extension": ".py",
   "mimetype": "text/x-python",
   "name": "python",
   "nbconvert_exporter": "python",
   "pygments_lexer": "ipython3",
   "version": "3.5.2"
  }
 },
 "nbformat": 4,
 "nbformat_minor": 0
}
